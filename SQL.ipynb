{
 "cells": [
  {
   "cell_type": "markdown",
   "id": "e049db22",
   "metadata": {
    "toc": true
   },
   "source": [
    "<h1>Оглавление<span class=\"tocSkip\"></span></h1>\n",
    "<div class=\"toc\"><ul class=\"toc-item\"><li><span><a href=\"#Первичное-знакомство:-подключение-к-БД\" data-toc-modified-id=\"Первичное-знакомство:-подключение-к-БД-1\">Первичное знакомство: подключение к БД</a></span></li><li><span><a href=\"#Предобработка-данных\" data-toc-modified-id=\"Предобработка-данных-2\">Предобработка данных</a></span></li><li><span><a href=\"#Задание-1\" data-toc-modified-id=\"Задание-1-3\">Задание 1</a></span></li><li><span><a href=\"#Задание-2\" data-toc-modified-id=\"Задание-2-4\">Задание 2</a></span></li><li><span><a href=\"#Задание-3\" data-toc-modified-id=\"Задание-3-5\">Задание 3</a></span></li><li><span><a href=\"#Задание-4\" data-toc-modified-id=\"Задание-4-6\">Задание 4</a></span></li><li><span><a href=\"#Задание-5\" data-toc-modified-id=\"Задание-5-7\">Задание 5</a></span></li></ul></div>"
   ]
  },
  {
   "cell_type": "markdown",
   "id": "c4cd1c16",
   "metadata": {},
   "source": [
    "**Цель -  проанализировать базу данных. В ней — информация о книгах, издательствах, авторах, а также пользовательские обзоры книг. Эти данные помогут сформулировать ценностное предложение для нового продукта**\n",
    "\n",
    "**План исследования:**\n",
    "\n",
    "**1.  Первичное знакомство**\n",
    "\n",
    "  1.1. Изученить таблицы/колоноки\n",
    "  \n",
    "**Таблица `books`**\n",
    "\n",
    "Содержит данные о книгах:\n",
    "- `book_id` — идентификатор книги;\n",
    "- `author_id` — идентификатор автора;\n",
    "- `title` — название книги;\n",
    "- `num_pages` — количество страниц;\n",
    "- `publication_date` — дата публикации книги;\n",
    "- `publisher_id` — идентификатор издателя.\n",
    "\n",
    "**Таблица `authors`**\n",
    "\n",
    "Содержит данные об авторах:\n",
    "- `author_id` — идентификатор автора;\n",
    "- `author` — имя автора.\n",
    "\n",
    "**Таблица `publishers`**\n",
    "\n",
    "Содержит данные об издательствах:\n",
    "- `publisher_id` — идентификатор издательства;\n",
    "- `publisher` — название издательства.\n",
    "\n",
    "**Таблица `ratings`**\n",
    "\n",
    "Содержит данные о пользовательских оценках книг:\n",
    "- `rating_id` — идентификатор оценки;\n",
    "- `book_id` — идентификатор книги;\n",
    "- `username` — имя пользователя, оставившего оценку;\n",
    "- `rating` — оценка книги.\n",
    "\n",
    "**Таблица `reviews`**\n",
    "\n",
    "Содержит данные о пользовательских обзорах на книги:\n",
    "- `review_id` — идентификатор обзора;\n",
    "- `book_id` — идентификатор книги;\n",
    "- `username` — имя пользователя, написавшего обзор;\n",
    "- `text` — текст обзора.\n",
    "\n",
    "  1.2. Загрузить библиотеки\n",
    "\n",
    "**2. Преобработка данных**\n",
    "- преобрзовать поле publication_date в таблице books в тип datetime, так как это поле с датой\n",
    "- пропуски отсутствуют\n",
    "- дубликаты отсутствуют\n",
    "- приводит к нижнему регистру не требуется\n",
    "- аномальные/нулевые/отрицательные значения отсутствуют\n",
    "\n",
    "**3. Посчитать, сколько книг вышло после 1 января 2000 года**\n",
    "\n",
    "**4. Для каждой книги посчитать количество обзоров и среднюю оценку**\n",
    "\n",
    "**5. Определить издательство, которое выпустило наибольшее число книг толще 50 страниц — так вы исключите из анализа брошюры**\n",
    "\n",
    "**6. Определить автора с самой высокой средней оценкой книг — учитывайте только книги с 50 и более оценками**\n",
    "\n",
    "**7. Посчитать среднее количество обзоров от пользователей, которые поставили больше 50 оценок**"
   ]
  },
  {
   "cell_type": "markdown",
   "id": "58c33dac",
   "metadata": {},
   "source": [
    "## Первичное знакомство: подключение к БД"
   ]
  },
  {
   "cell_type": "code",
   "execution_count": 1,
   "id": "53885b3f",
   "metadata": {},
   "outputs": [],
   "source": [
    "#импортируем библиотеки\n",
    "import pandas as pd\n",
    "from sqlalchemy import create_engine\n",
    "import datetime as dt"
   ]
  },
  {
   "cell_type": "code",
   "execution_count": 2,
   "id": "da87facb",
   "metadata": {},
   "outputs": [],
   "source": [
    "#устанавливаем параметры\n",
    "db_config = {'user': 'praktikum_student',\n",
    "             'pwd': 'Sdf4$2;d-d30pp',\n",
    "             'host': 'rc1b-wcoijxj3yxfsf3fs.mdb.yandexcloud.net',\n",
    "             'port': 6432, \n",
    "             'db': 'data-analyst-final-project-db'}\n",
    "\n",
    "connection_string = 'postgresql://{}:{}@{}:{}/{}'.format(db_config['user'],\n",
    "db_config['pwd'],\n",
    "db_config['host'],\n",
    "db_config['port'],\n",
    "db_config['db'])\n",
    "\n",
    "#сохраняем коннектор\n",
    "engine = create_engine(connection_string, connect_args={'sslmode':'require'}) "
   ]
  },
  {
   "cell_type": "code",
   "execution_count": 3,
   "id": "6349e2dd",
   "metadata": {},
   "outputs": [],
   "source": [
    "#формируем sql запрос\n",
    "books = pd.io.sql.read_sql(''' SELECT * FROM books''', con = engine)"
   ]
  },
  {
   "cell_type": "code",
   "execution_count": 4,
   "id": "a1bc0361",
   "metadata": {},
   "outputs": [],
   "source": [
    "authors = pd.io.sql.read_sql(''' SELECT * FROM authors''', con = engine)"
   ]
  },
  {
   "cell_type": "code",
   "execution_count": 5,
   "id": "56009c5a",
   "metadata": {},
   "outputs": [],
   "source": [
    "publishers = pd.io.sql.read_sql(''' SELECT * FROM publishers''', con = engine)"
   ]
  },
  {
   "cell_type": "code",
   "execution_count": 6,
   "id": "4c1b3145",
   "metadata": {},
   "outputs": [],
   "source": [
    "ratings = pd.io.sql.read_sql(''' SELECT * FROM ratings''', con = engine)"
   ]
  },
  {
   "cell_type": "code",
   "execution_count": 7,
   "id": "5f43ac54",
   "metadata": {},
   "outputs": [],
   "source": [
    "reviews = pd.io.sql.read_sql(''' SELECT * FROM reviews''', con = engine)"
   ]
  },
  {
   "cell_type": "code",
   "execution_count": 8,
   "id": "ea5d6a26",
   "metadata": {},
   "outputs": [
    {
     "data": {
      "text/html": [
       "<div>\n",
       "<style scoped>\n",
       "    .dataframe tbody tr th:only-of-type {\n",
       "        vertical-align: middle;\n",
       "    }\n",
       "\n",
       "    .dataframe tbody tr th {\n",
       "        vertical-align: top;\n",
       "    }\n",
       "\n",
       "    .dataframe thead th {\n",
       "        text-align: right;\n",
       "    }\n",
       "</style>\n",
       "<table border=\"1\" class=\"dataframe\">\n",
       "  <thead>\n",
       "    <tr style=\"text-align: right;\">\n",
       "      <th></th>\n",
       "      <th>book_id</th>\n",
       "      <th>author_id</th>\n",
       "      <th>title</th>\n",
       "      <th>num_pages</th>\n",
       "      <th>publication_date</th>\n",
       "      <th>publisher_id</th>\n",
       "    </tr>\n",
       "  </thead>\n",
       "  <tbody>\n",
       "    <tr>\n",
       "      <th>0</th>\n",
       "      <td>1</td>\n",
       "      <td>546</td>\n",
       "      <td>'Salem's Lot</td>\n",
       "      <td>594</td>\n",
       "      <td>2005-11-01</td>\n",
       "      <td>93</td>\n",
       "    </tr>\n",
       "    <tr>\n",
       "      <th>1</th>\n",
       "      <td>2</td>\n",
       "      <td>465</td>\n",
       "      <td>1 000 Places to See Before You Die</td>\n",
       "      <td>992</td>\n",
       "      <td>2003-05-22</td>\n",
       "      <td>336</td>\n",
       "    </tr>\n",
       "    <tr>\n",
       "      <th>2</th>\n",
       "      <td>3</td>\n",
       "      <td>407</td>\n",
       "      <td>13 Little Blue Envelopes (Little Blue Envelope...</td>\n",
       "      <td>322</td>\n",
       "      <td>2010-12-21</td>\n",
       "      <td>135</td>\n",
       "    </tr>\n",
       "    <tr>\n",
       "      <th>3</th>\n",
       "      <td>4</td>\n",
       "      <td>82</td>\n",
       "      <td>1491: New Revelations of the Americas Before C...</td>\n",
       "      <td>541</td>\n",
       "      <td>2006-10-10</td>\n",
       "      <td>309</td>\n",
       "    </tr>\n",
       "    <tr>\n",
       "      <th>4</th>\n",
       "      <td>5</td>\n",
       "      <td>125</td>\n",
       "      <td>1776</td>\n",
       "      <td>386</td>\n",
       "      <td>2006-07-04</td>\n",
       "      <td>268</td>\n",
       "    </tr>\n",
       "  </tbody>\n",
       "</table>\n",
       "</div>"
      ],
      "text/plain": [
       "   book_id  author_id                                              title  \\\n",
       "0        1        546                                       'Salem's Lot   \n",
       "1        2        465                 1 000 Places to See Before You Die   \n",
       "2        3        407  13 Little Blue Envelopes (Little Blue Envelope...   \n",
       "3        4         82  1491: New Revelations of the Americas Before C...   \n",
       "4        5        125                                               1776   \n",
       "\n",
       "   num_pages publication_date  publisher_id  \n",
       "0        594       2005-11-01            93  \n",
       "1        992       2003-05-22           336  \n",
       "2        322       2010-12-21           135  \n",
       "3        541       2006-10-10           309  \n",
       "4        386       2006-07-04           268  "
      ]
     },
     "metadata": {},
     "output_type": "display_data"
    },
    {
     "data": {
      "text/html": [
       "<div>\n",
       "<style scoped>\n",
       "    .dataframe tbody tr th:only-of-type {\n",
       "        vertical-align: middle;\n",
       "    }\n",
       "\n",
       "    .dataframe tbody tr th {\n",
       "        vertical-align: top;\n",
       "    }\n",
       "\n",
       "    .dataframe thead th {\n",
       "        text-align: right;\n",
       "    }\n",
       "</style>\n",
       "<table border=\"1\" class=\"dataframe\">\n",
       "  <thead>\n",
       "    <tr style=\"text-align: right;\">\n",
       "      <th></th>\n",
       "      <th>author_id</th>\n",
       "      <th>author</th>\n",
       "    </tr>\n",
       "  </thead>\n",
       "  <tbody>\n",
       "    <tr>\n",
       "      <th>0</th>\n",
       "      <td>1</td>\n",
       "      <td>A.S. Byatt</td>\n",
       "    </tr>\n",
       "    <tr>\n",
       "      <th>1</th>\n",
       "      <td>2</td>\n",
       "      <td>Aesop/Laura Harris/Laura Gibbs</td>\n",
       "    </tr>\n",
       "    <tr>\n",
       "      <th>2</th>\n",
       "      <td>3</td>\n",
       "      <td>Agatha Christie</td>\n",
       "    </tr>\n",
       "    <tr>\n",
       "      <th>3</th>\n",
       "      <td>4</td>\n",
       "      <td>Alan Brennert</td>\n",
       "    </tr>\n",
       "    <tr>\n",
       "      <th>4</th>\n",
       "      <td>5</td>\n",
       "      <td>Alan Moore/David   Lloyd</td>\n",
       "    </tr>\n",
       "  </tbody>\n",
       "</table>\n",
       "</div>"
      ],
      "text/plain": [
       "   author_id                          author\n",
       "0          1                      A.S. Byatt\n",
       "1          2  Aesop/Laura Harris/Laura Gibbs\n",
       "2          3                 Agatha Christie\n",
       "3          4                   Alan Brennert\n",
       "4          5        Alan Moore/David   Lloyd"
      ]
     },
     "metadata": {},
     "output_type": "display_data"
    },
    {
     "data": {
      "text/html": [
       "<div>\n",
       "<style scoped>\n",
       "    .dataframe tbody tr th:only-of-type {\n",
       "        vertical-align: middle;\n",
       "    }\n",
       "\n",
       "    .dataframe tbody tr th {\n",
       "        vertical-align: top;\n",
       "    }\n",
       "\n",
       "    .dataframe thead th {\n",
       "        text-align: right;\n",
       "    }\n",
       "</style>\n",
       "<table border=\"1\" class=\"dataframe\">\n",
       "  <thead>\n",
       "    <tr style=\"text-align: right;\">\n",
       "      <th></th>\n",
       "      <th>publisher_id</th>\n",
       "      <th>publisher</th>\n",
       "    </tr>\n",
       "  </thead>\n",
       "  <tbody>\n",
       "    <tr>\n",
       "      <th>0</th>\n",
       "      <td>1</td>\n",
       "      <td>Ace</td>\n",
       "    </tr>\n",
       "    <tr>\n",
       "      <th>1</th>\n",
       "      <td>2</td>\n",
       "      <td>Ace Book</td>\n",
       "    </tr>\n",
       "    <tr>\n",
       "      <th>2</th>\n",
       "      <td>3</td>\n",
       "      <td>Ace Books</td>\n",
       "    </tr>\n",
       "    <tr>\n",
       "      <th>3</th>\n",
       "      <td>4</td>\n",
       "      <td>Ace Hardcover</td>\n",
       "    </tr>\n",
       "    <tr>\n",
       "      <th>4</th>\n",
       "      <td>5</td>\n",
       "      <td>Addison Wesley Publishing Company</td>\n",
       "    </tr>\n",
       "  </tbody>\n",
       "</table>\n",
       "</div>"
      ],
      "text/plain": [
       "   publisher_id                          publisher\n",
       "0             1                                Ace\n",
       "1             2                           Ace Book\n",
       "2             3                          Ace Books\n",
       "3             4                      Ace Hardcover\n",
       "4             5  Addison Wesley Publishing Company"
      ]
     },
     "metadata": {},
     "output_type": "display_data"
    },
    {
     "data": {
      "text/html": [
       "<div>\n",
       "<style scoped>\n",
       "    .dataframe tbody tr th:only-of-type {\n",
       "        vertical-align: middle;\n",
       "    }\n",
       "\n",
       "    .dataframe tbody tr th {\n",
       "        vertical-align: top;\n",
       "    }\n",
       "\n",
       "    .dataframe thead th {\n",
       "        text-align: right;\n",
       "    }\n",
       "</style>\n",
       "<table border=\"1\" class=\"dataframe\">\n",
       "  <thead>\n",
       "    <tr style=\"text-align: right;\">\n",
       "      <th></th>\n",
       "      <th>rating_id</th>\n",
       "      <th>book_id</th>\n",
       "      <th>username</th>\n",
       "      <th>rating</th>\n",
       "    </tr>\n",
       "  </thead>\n",
       "  <tbody>\n",
       "    <tr>\n",
       "      <th>0</th>\n",
       "      <td>1</td>\n",
       "      <td>1</td>\n",
       "      <td>ryanfranco</td>\n",
       "      <td>4</td>\n",
       "    </tr>\n",
       "    <tr>\n",
       "      <th>1</th>\n",
       "      <td>2</td>\n",
       "      <td>1</td>\n",
       "      <td>grantpatricia</td>\n",
       "      <td>2</td>\n",
       "    </tr>\n",
       "    <tr>\n",
       "      <th>2</th>\n",
       "      <td>3</td>\n",
       "      <td>1</td>\n",
       "      <td>brandtandrea</td>\n",
       "      <td>5</td>\n",
       "    </tr>\n",
       "    <tr>\n",
       "      <th>3</th>\n",
       "      <td>4</td>\n",
       "      <td>2</td>\n",
       "      <td>lorichen</td>\n",
       "      <td>3</td>\n",
       "    </tr>\n",
       "    <tr>\n",
       "      <th>4</th>\n",
       "      <td>5</td>\n",
       "      <td>2</td>\n",
       "      <td>mariokeller</td>\n",
       "      <td>2</td>\n",
       "    </tr>\n",
       "  </tbody>\n",
       "</table>\n",
       "</div>"
      ],
      "text/plain": [
       "   rating_id  book_id       username  rating\n",
       "0          1        1     ryanfranco       4\n",
       "1          2        1  grantpatricia       2\n",
       "2          3        1   brandtandrea       5\n",
       "3          4        2       lorichen       3\n",
       "4          5        2    mariokeller       2"
      ]
     },
     "metadata": {},
     "output_type": "display_data"
    },
    {
     "data": {
      "text/html": [
       "<div>\n",
       "<style scoped>\n",
       "    .dataframe tbody tr th:only-of-type {\n",
       "        vertical-align: middle;\n",
       "    }\n",
       "\n",
       "    .dataframe tbody tr th {\n",
       "        vertical-align: top;\n",
       "    }\n",
       "\n",
       "    .dataframe thead th {\n",
       "        text-align: right;\n",
       "    }\n",
       "</style>\n",
       "<table border=\"1\" class=\"dataframe\">\n",
       "  <thead>\n",
       "    <tr style=\"text-align: right;\">\n",
       "      <th></th>\n",
       "      <th>review_id</th>\n",
       "      <th>book_id</th>\n",
       "      <th>username</th>\n",
       "      <th>text</th>\n",
       "    </tr>\n",
       "  </thead>\n",
       "  <tbody>\n",
       "    <tr>\n",
       "      <th>0</th>\n",
       "      <td>1</td>\n",
       "      <td>1</td>\n",
       "      <td>brandtandrea</td>\n",
       "      <td>Mention society tell send professor analysis. ...</td>\n",
       "    </tr>\n",
       "    <tr>\n",
       "      <th>1</th>\n",
       "      <td>2</td>\n",
       "      <td>1</td>\n",
       "      <td>ryanfranco</td>\n",
       "      <td>Foot glass pretty audience hit themselves. Amo...</td>\n",
       "    </tr>\n",
       "    <tr>\n",
       "      <th>2</th>\n",
       "      <td>3</td>\n",
       "      <td>2</td>\n",
       "      <td>lorichen</td>\n",
       "      <td>Listen treat keep worry. Miss husband tax but ...</td>\n",
       "    </tr>\n",
       "    <tr>\n",
       "      <th>3</th>\n",
       "      <td>4</td>\n",
       "      <td>3</td>\n",
       "      <td>johnsonamanda</td>\n",
       "      <td>Finally month interesting blue could nature cu...</td>\n",
       "    </tr>\n",
       "    <tr>\n",
       "      <th>4</th>\n",
       "      <td>5</td>\n",
       "      <td>3</td>\n",
       "      <td>scotttamara</td>\n",
       "      <td>Nation purpose heavy give wait song will. List...</td>\n",
       "    </tr>\n",
       "  </tbody>\n",
       "</table>\n",
       "</div>"
      ],
      "text/plain": [
       "   review_id  book_id       username  \\\n",
       "0          1        1   brandtandrea   \n",
       "1          2        1     ryanfranco   \n",
       "2          3        2       lorichen   \n",
       "3          4        3  johnsonamanda   \n",
       "4          5        3    scotttamara   \n",
       "\n",
       "                                                text  \n",
       "0  Mention society tell send professor analysis. ...  \n",
       "1  Foot glass pretty audience hit themselves. Amo...  \n",
       "2  Listen treat keep worry. Miss husband tax but ...  \n",
       "3  Finally month interesting blue could nature cu...  \n",
       "4  Nation purpose heavy give wait song will. List...  "
      ]
     },
     "metadata": {},
     "output_type": "display_data"
    }
   ],
   "source": [
    "#смотрим таблицы\n",
    "table = books, authors, publishers, ratings, reviews\n",
    "\n",
    "for row in table:\n",
    "    display(row.head())"
   ]
  },
  {
   "cell_type": "markdown",
   "id": "24c12315",
   "metadata": {},
   "source": [
    "## Предобработка данных"
   ]
  },
  {
   "cell_type": "code",
   "execution_count": 9,
   "id": "fe74dc23",
   "metadata": {},
   "outputs": [
    {
     "name": "stdout",
     "output_type": "stream",
     "text": [
      "<class 'pandas.core.frame.DataFrame'>\n",
      "RangeIndex: 1000 entries, 0 to 999\n",
      "Data columns (total 6 columns):\n",
      " #   Column            Non-Null Count  Dtype \n",
      "---  ------            --------------  ----- \n",
      " 0   book_id           1000 non-null   int64 \n",
      " 1   author_id         1000 non-null   int64 \n",
      " 2   title             1000 non-null   object\n",
      " 3   num_pages         1000 non-null   int64 \n",
      " 4   publication_date  1000 non-null   object\n",
      " 5   publisher_id      1000 non-null   int64 \n",
      "dtypes: int64(4), object(2)\n",
      "memory usage: 47.0+ KB\n",
      "<class 'pandas.core.frame.DataFrame'>\n",
      "RangeIndex: 636 entries, 0 to 635\n",
      "Data columns (total 2 columns):\n",
      " #   Column     Non-Null Count  Dtype \n",
      "---  ------     --------------  ----- \n",
      " 0   author_id  636 non-null    int64 \n",
      " 1   author     636 non-null    object\n",
      "dtypes: int64(1), object(1)\n",
      "memory usage: 10.1+ KB\n",
      "<class 'pandas.core.frame.DataFrame'>\n",
      "RangeIndex: 340 entries, 0 to 339\n",
      "Data columns (total 2 columns):\n",
      " #   Column        Non-Null Count  Dtype \n",
      "---  ------        --------------  ----- \n",
      " 0   publisher_id  340 non-null    int64 \n",
      " 1   publisher     340 non-null    object\n",
      "dtypes: int64(1), object(1)\n",
      "memory usage: 5.4+ KB\n",
      "<class 'pandas.core.frame.DataFrame'>\n",
      "RangeIndex: 6456 entries, 0 to 6455\n",
      "Data columns (total 4 columns):\n",
      " #   Column     Non-Null Count  Dtype \n",
      "---  ------     --------------  ----- \n",
      " 0   rating_id  6456 non-null   int64 \n",
      " 1   book_id    6456 non-null   int64 \n",
      " 2   username   6456 non-null   object\n",
      " 3   rating     6456 non-null   int64 \n",
      "dtypes: int64(3), object(1)\n",
      "memory usage: 201.9+ KB\n",
      "<class 'pandas.core.frame.DataFrame'>\n",
      "RangeIndex: 2793 entries, 0 to 2792\n",
      "Data columns (total 4 columns):\n",
      " #   Column     Non-Null Count  Dtype \n",
      "---  ------     --------------  ----- \n",
      " 0   review_id  2793 non-null   int64 \n",
      " 1   book_id    2793 non-null   int64 \n",
      " 2   username   2793 non-null   object\n",
      " 3   text       2793 non-null   object\n",
      "dtypes: int64(2), object(2)\n",
      "memory usage: 87.4+ KB\n"
     ]
    }
   ],
   "source": [
    "#смотрим информацию по колонкам\n",
    "table = books, authors, publishers, ratings, reviews\n",
    "\n",
    "for row in table:\n",
    "    row.info()"
   ]
  },
  {
   "cell_type": "code",
   "execution_count": 10,
   "id": "e04023dd",
   "metadata": {},
   "outputs": [
    {
     "name": "stdout",
     "output_type": "stream",
     "text": [
      "<class 'pandas.core.frame.DataFrame'>\n",
      "RangeIndex: 1000 entries, 0 to 999\n",
      "Data columns (total 6 columns):\n",
      " #   Column            Non-Null Count  Dtype         \n",
      "---  ------            --------------  -----         \n",
      " 0   book_id           1000 non-null   int64         \n",
      " 1   author_id         1000 non-null   int64         \n",
      " 2   title             1000 non-null   object        \n",
      " 3   num_pages         1000 non-null   int64         \n",
      " 4   publication_date  1000 non-null   datetime64[ns]\n",
      " 5   publisher_id      1000 non-null   int64         \n",
      "dtypes: datetime64[ns](1), int64(4), object(1)\n",
      "memory usage: 47.0+ KB\n"
     ]
    }
   ],
   "source": [
    "#преобрзуем поле publication_date в таблице books в тип datetime\n",
    "books['publication_date'] = pd.to_datetime(books['publication_date'])\n",
    "books.info()"
   ]
  },
  {
   "cell_type": "code",
   "execution_count": 11,
   "id": "66178273",
   "metadata": {},
   "outputs": [
    {
     "data": {
      "text/html": [
       "<div>\n",
       "<style scoped>\n",
       "    .dataframe tbody tr th:only-of-type {\n",
       "        vertical-align: middle;\n",
       "    }\n",
       "\n",
       "    .dataframe tbody tr th {\n",
       "        vertical-align: top;\n",
       "    }\n",
       "\n",
       "    .dataframe thead th {\n",
       "        text-align: right;\n",
       "    }\n",
       "</style>\n",
       "<table border=\"1\" class=\"dataframe\">\n",
       "  <thead>\n",
       "    <tr style=\"text-align: right;\">\n",
       "      <th></th>\n",
       "      <th>book_id</th>\n",
       "      <th>author_id</th>\n",
       "      <th>title</th>\n",
       "      <th>num_pages</th>\n",
       "      <th>publication_date</th>\n",
       "      <th>publisher_id</th>\n",
       "    </tr>\n",
       "  </thead>\n",
       "  <tbody>\n",
       "    <tr>\n",
       "      <th>0</th>\n",
       "      <td>1</td>\n",
       "      <td>546</td>\n",
       "      <td>'Salem's Lot</td>\n",
       "      <td>594</td>\n",
       "      <td>2005-11-01</td>\n",
       "      <td>93</td>\n",
       "    </tr>\n",
       "    <tr>\n",
       "      <th>1</th>\n",
       "      <td>2</td>\n",
       "      <td>465</td>\n",
       "      <td>1 000 Places to See Before You Die</td>\n",
       "      <td>992</td>\n",
       "      <td>2003-05-22</td>\n",
       "      <td>336</td>\n",
       "    </tr>\n",
       "    <tr>\n",
       "      <th>2</th>\n",
       "      <td>3</td>\n",
       "      <td>407</td>\n",
       "      <td>13 Little Blue Envelopes (Little Blue Envelope...</td>\n",
       "      <td>322</td>\n",
       "      <td>2010-12-21</td>\n",
       "      <td>135</td>\n",
       "    </tr>\n",
       "    <tr>\n",
       "      <th>3</th>\n",
       "      <td>4</td>\n",
       "      <td>82</td>\n",
       "      <td>1491: New Revelations of the Americas Before C...</td>\n",
       "      <td>541</td>\n",
       "      <td>2006-10-10</td>\n",
       "      <td>309</td>\n",
       "    </tr>\n",
       "    <tr>\n",
       "      <th>4</th>\n",
       "      <td>5</td>\n",
       "      <td>125</td>\n",
       "      <td>1776</td>\n",
       "      <td>386</td>\n",
       "      <td>2006-07-04</td>\n",
       "      <td>268</td>\n",
       "    </tr>\n",
       "  </tbody>\n",
       "</table>\n",
       "</div>"
      ],
      "text/plain": [
       "   book_id  author_id                                              title  \\\n",
       "0        1        546                                       'Salem's Lot   \n",
       "1        2        465                 1 000 Places to See Before You Die   \n",
       "2        3        407  13 Little Blue Envelopes (Little Blue Envelope...   \n",
       "3        4         82  1491: New Revelations of the Americas Before C...   \n",
       "4        5        125                                               1776   \n",
       "\n",
       "   num_pages publication_date  publisher_id  \n",
       "0        594       2005-11-01            93  \n",
       "1        992       2003-05-22           336  \n",
       "2        322       2010-12-21           135  \n",
       "3        541       2006-10-10           309  \n",
       "4        386       2006-07-04           268  "
      ]
     },
     "execution_count": 11,
     "metadata": {},
     "output_type": "execute_result"
    }
   ],
   "source": [
    "books.head()"
   ]
  },
  {
   "cell_type": "code",
   "execution_count": 12,
   "id": "3965bf16",
   "metadata": {},
   "outputs": [
    {
     "name": "stdout",
     "output_type": "stream",
     "text": [
      "book_id             0\n",
      "author_id           0\n",
      "title               0\n",
      "num_pages           0\n",
      "publication_date    0\n",
      "publisher_id        0\n",
      "dtype: int64\n",
      "author_id    0\n",
      "author       0\n",
      "dtype: int64\n",
      "publisher_id    0\n",
      "publisher       0\n",
      "dtype: int64\n",
      "rating_id    0\n",
      "book_id      0\n",
      "username     0\n",
      "rating       0\n",
      "dtype: int64\n",
      "review_id    0\n",
      "book_id      0\n",
      "username     0\n",
      "text         0\n",
      "dtype: int64\n"
     ]
    }
   ],
   "source": [
    "#проверяем на пропуски каждый датафрейм\n",
    "table = books, authors, publishers, ratings, reviews\n",
    "\n",
    "for row in table:\n",
    "    print(row.isna().sum())"
   ]
  },
  {
   "cell_type": "markdown",
   "id": "88833889",
   "metadata": {},
   "source": [
    "пропусков нет"
   ]
  },
  {
   "cell_type": "code",
   "execution_count": 13,
   "id": "d22b393c",
   "metadata": {},
   "outputs": [
    {
     "name": "stdout",
     "output_type": "stream",
     "text": [
      "Кол-во дубликатов - 0\n",
      "Кол-во дубликатов - 0\n",
      "Кол-во дубликатов - 0\n",
      "Кол-во дубликатов - 0\n",
      "Кол-во дубликатов - 0\n"
     ]
    }
   ],
   "source": [
    "#проверяем на дубликаты каждый датафрейм\n",
    "table = books, authors, publishers, ratings, reviews\n",
    "\n",
    "for row in table:\n",
    "    print('Кол-во дубликатов -', row.duplicated().sum())"
   ]
  },
  {
   "cell_type": "markdown",
   "id": "ef3056b7",
   "metadata": {},
   "source": [
    "дубликатов нет"
   ]
  },
  {
   "cell_type": "code",
   "execution_count": 14,
   "id": "4aa3723f",
   "metadata": {},
   "outputs": [
    {
     "name": "stdout",
     "output_type": "stream",
     "text": [
      "           book_id    author_id   num_pages  publisher_id\n",
      "count  1000.000000  1000.000000  1000.00000   1000.000000\n",
      "mean    500.500000   320.417000   389.11100    171.270000\n",
      "std     288.819436   181.620172   229.39014     99.082685\n",
      "min       1.000000     1.000000    14.00000      1.000000\n",
      "25%     250.750000   162.750000   249.00000     83.000000\n",
      "50%     500.500000   316.500000   352.00000    177.500000\n",
      "75%     750.250000   481.000000   453.00000    258.000000\n",
      "max    1000.000000   636.000000  2690.00000    340.000000\n",
      "        author_id\n",
      "count  636.000000\n",
      "mean   318.500000\n",
      "std    183.741666\n",
      "min      1.000000\n",
      "25%    159.750000\n",
      "50%    318.500000\n",
      "75%    477.250000\n",
      "max    636.000000\n",
      "       publisher_id\n",
      "count    340.000000\n",
      "mean     170.500000\n",
      "std       98.293777\n",
      "min        1.000000\n",
      "25%       85.750000\n",
      "50%      170.500000\n",
      "75%      255.250000\n",
      "max      340.000000\n",
      "         rating_id      book_id       rating\n",
      "count  6456.000000  6456.000000  6456.000000\n",
      "mean   3228.500000   510.574195     3.928284\n",
      "std    1863.831001   284.141636     0.943303\n",
      "min       1.000000     1.000000     1.000000\n",
      "25%    1614.750000   291.000000     3.000000\n",
      "50%    3228.500000   506.000000     4.000000\n",
      "75%    4842.250000   750.000000     5.000000\n",
      "max    6456.000000  1000.000000     5.000000\n",
      "         review_id      book_id\n",
      "count  2793.000000  2793.000000\n",
      "mean   1397.000000   504.693161\n",
      "std     806.413976   288.472931\n",
      "min       1.000000     1.000000\n",
      "25%     699.000000   259.000000\n",
      "50%    1397.000000   505.000000\n",
      "75%    2095.000000   753.000000\n",
      "max    2793.000000  1000.000000\n"
     ]
    }
   ],
   "source": [
    "#проверяем на аномальные/нулевые/отрицательные значения каждый датафрейм\n",
    "table = books, authors, publishers, ratings, reviews\n",
    "\n",
    "for row in table:\n",
    "    print(row.describe())"
   ]
  },
  {
   "cell_type": "markdown",
   "id": "d5650a4c",
   "metadata": {},
   "source": [
    "обращала внимание на отрицательные и нулевые айдиншники, кол-во страниц и рейтинг - не выявлено \n",
    "\n",
    "плюс проверила поле рейтинг в таблице рейтинг на реалистичность значений - аномалий не выявлено"
   ]
  },
  {
   "cell_type": "markdown",
   "id": "1ac0fde3",
   "metadata": {},
   "source": [
    "**Вывод: данные/значения таблиц высокого качества**"
   ]
  },
  {
   "cell_type": "markdown",
   "id": "6b8ea1d6",
   "metadata": {},
   "source": [
    "## Задание 1"
   ]
  },
  {
   "cell_type": "code",
   "execution_count": 15,
   "id": "a2c818e2",
   "metadata": {},
   "outputs": [
    {
     "name": "stdout",
     "output_type": "stream",
     "text": [
      "Кол-во книг, которые вышли после 1 января 2000 года - 819\n"
     ]
    }
   ],
   "source": [
    "#посчитаем, сколько книг вышло после 1 января 2000 года\n",
    "query_one = ''' \n",
    "SELECT COUNT(book_id) \n",
    "FROM books\n",
    "WHERE publication_date > '2000-01-01'\n",
    "'''\n",
    "query_one = pd.io.sql.read_sql(query_one, con = engine)\n",
    "\n",
    "print('Кол-во книг, которые вышли после 1 января 2000 года -', query_one.iloc[0,0])"
   ]
  },
  {
   "cell_type": "markdown",
   "id": "7e49b516",
   "metadata": {},
   "source": [
    "**Вывод: после 1 января 2000 года вышло 819 книг**"
   ]
  },
  {
   "cell_type": "markdown",
   "id": "d673ff88",
   "metadata": {},
   "source": [
    "## Задание 2"
   ]
  },
  {
   "cell_type": "code",
   "execution_count": 16,
   "id": "f9058070",
   "metadata": {},
   "outputs": [
    {
     "data": {
      "text/html": [
       "<div>\n",
       "<style scoped>\n",
       "    .dataframe tbody tr th:only-of-type {\n",
       "        vertical-align: middle;\n",
       "    }\n",
       "\n",
       "    .dataframe tbody tr th {\n",
       "        vertical-align: top;\n",
       "    }\n",
       "\n",
       "    .dataframe thead th {\n",
       "        text-align: right;\n",
       "    }\n",
       "</style>\n",
       "<table border=\"1\" class=\"dataframe\">\n",
       "  <thead>\n",
       "    <tr style=\"text-align: right;\">\n",
       "      <th></th>\n",
       "      <th>book_id</th>\n",
       "      <th>avg_rating</th>\n",
       "      <th>cnt_reviews</th>\n",
       "    </tr>\n",
       "  </thead>\n",
       "  <tbody>\n",
       "    <tr>\n",
       "      <th>911</th>\n",
       "      <td>17</td>\n",
       "      <td>5.00</td>\n",
       "      <td>4.0</td>\n",
       "    </tr>\n",
       "    <tr>\n",
       "      <th>320</th>\n",
       "      <td>444</td>\n",
       "      <td>5.00</td>\n",
       "      <td>3.0</td>\n",
       "    </tr>\n",
       "    <tr>\n",
       "      <th>648</th>\n",
       "      <td>553</td>\n",
       "      <td>5.00</td>\n",
       "      <td>3.0</td>\n",
       "    </tr>\n",
       "    <tr>\n",
       "      <th>28</th>\n",
       "      <td>390</td>\n",
       "      <td>5.00</td>\n",
       "      <td>2.0</td>\n",
       "    </tr>\n",
       "    <tr>\n",
       "      <th>44</th>\n",
       "      <td>57</td>\n",
       "      <td>5.00</td>\n",
       "      <td>2.0</td>\n",
       "    </tr>\n",
       "    <tr>\n",
       "      <th>...</th>\n",
       "      <td>...</td>\n",
       "      <td>...</td>\n",
       "      <td>...</td>\n",
       "    </tr>\n",
       "    <tr>\n",
       "      <th>446</th>\n",
       "      <td>915</td>\n",
       "      <td>2.25</td>\n",
       "      <td>3.0</td>\n",
       "    </tr>\n",
       "    <tr>\n",
       "      <th>900</th>\n",
       "      <td>202</td>\n",
       "      <td>2.00</td>\n",
       "      <td>3.0</td>\n",
       "    </tr>\n",
       "    <tr>\n",
       "      <th>711</th>\n",
       "      <td>316</td>\n",
       "      <td>2.00</td>\n",
       "      <td>2.0</td>\n",
       "    </tr>\n",
       "    <tr>\n",
       "      <th>960</th>\n",
       "      <td>371</td>\n",
       "      <td>2.00</td>\n",
       "      <td>2.0</td>\n",
       "    </tr>\n",
       "    <tr>\n",
       "      <th>314</th>\n",
       "      <td>303</td>\n",
       "      <td>1.50</td>\n",
       "      <td>2.0</td>\n",
       "    </tr>\n",
       "  </tbody>\n",
       "</table>\n",
       "<p>1000 rows × 3 columns</p>\n",
       "</div>"
      ],
      "text/plain": [
       "     book_id  avg_rating  cnt_reviews\n",
       "911       17        5.00          4.0\n",
       "320      444        5.00          3.0\n",
       "648      553        5.00          3.0\n",
       "28       390        5.00          2.0\n",
       "44        57        5.00          2.0\n",
       "..       ...         ...          ...\n",
       "446      915        2.25          3.0\n",
       "900      202        2.00          3.0\n",
       "711      316        2.00          2.0\n",
       "960      371        2.00          2.0\n",
       "314      303        1.50          2.0\n",
       "\n",
       "[1000 rows x 3 columns]"
      ]
     },
     "execution_count": 16,
     "metadata": {},
     "output_type": "execute_result"
    }
   ],
   "source": [
    "#для каждой книги посчитаем количество обзоров и среднюю оценку\n",
    "query_two = '''\n",
    "WITH rat AS (\n",
    "SELECT book_id,\n",
    "       ROUND(AVG(rating), 2) AS avg_rating\n",
    "FROM ratings \n",
    "GROUP BY book_id),\n",
    "\n",
    "rev AS (\n",
    "SELECT book_id,\n",
    "       COUNT(review_id) AS cnt_reviews\n",
    "FROM reviews \n",
    "GROUP BY book_id)\n",
    "\n",
    "SELECT b.book_id,\n",
    "       r.avg_rating,\n",
    "       re.cnt_reviews\n",
    "FROM books AS b \n",
    "LEFT JOIN rat AS r ON b.book_id=r.book_id\n",
    "LEFT JOIN rev AS re ON b.book_id=re.book_id\n",
    "'''\n",
    "\n",
    "query_two = pd.io.sql.read_sql(query_two, con = engine)\n",
    "\n",
    "query_two.sort_values(by=['avg_rating', 'cnt_reviews'], ascending=False)"
   ]
  },
  {
   "cell_type": "code",
   "execution_count": 17,
   "id": "542cdc81",
   "metadata": {},
   "outputs": [],
   "source": [
    "top = query_two.query('avg_rating == 5')['book_id'].count()"
   ]
  },
  {
   "cell_type": "code",
   "execution_count": 18,
   "id": "24665458",
   "metadata": {},
   "outputs": [
    {
     "name": "stdout",
     "output_type": "stream",
     "text": [
      "Доля книг с рейтингом 5 - 4.4\n"
     ]
    }
   ],
   "source": [
    "total = query_two['book_id'].count()\n",
    "print('Доля книг с рейтингом 5 -', round(top/total*100, 2))"
   ]
  },
  {
   "cell_type": "code",
   "execution_count": 19,
   "id": "c9152b61",
   "metadata": {},
   "outputs": [
    {
     "name": "stdout",
     "output_type": "stream",
     "text": [
      "book_id        0\n",
      "avg_rating     0\n",
      "cnt_reviews    6\n",
      "dtype: int64\n"
     ]
    }
   ],
   "source": [
    "print(query_two.isna().sum())"
   ]
  },
  {
   "cell_type": "markdown",
   "id": "9d4cc2fe",
   "metadata": {},
   "source": [
    "**Вывод: вывели для каждой книги количество обзоров и среднюю оценку, а также проверили долю книг с наивысшем рейтингом от всех - 4%**"
   ]
  },
  {
   "cell_type": "markdown",
   "id": "c34793b2",
   "metadata": {},
   "source": [
    "## Задание 3"
   ]
  },
  {
   "cell_type": "code",
   "execution_count": 20,
   "id": "72e58569",
   "metadata": {},
   "outputs": [
    {
     "name": "stdout",
     "output_type": "stream",
     "text": [
      "Издательство, которое выпустило наибольшее число книг толще 50 страниц - Penguin Books\n"
     ]
    }
   ],
   "source": [
    "#найдем издательство, которое выпустило наибольшее число книг толще 50 страниц — так вы исключите из анализа брошюры\n",
    "query_free = '''\n",
    "WITH bok AS (\n",
    "SELECT publisher_id,\n",
    "       COUNT(book_id) AS cnt_book\n",
    "FROM books\n",
    "WHERE num_pages > 50\n",
    "GROUP BY publisher_id)\n",
    "\n",
    "SELECT publisher\n",
    "FROM bok AS b\n",
    "JOIN publishers AS p ON b.publisher_id=p.publisher_id\n",
    "ORDER BY cnt_book DESC\n",
    "LIMIT 1\n",
    "'''\n",
    "query_free = pd.io.sql.read_sql(query_free, con = engine)\n",
    "\n",
    "print('Издательство, которое выпустило наибольшее число книг толще 50 страниц -', query_free.iloc[0,0])"
   ]
  },
  {
   "cell_type": "markdown",
   "id": "adef7ac8",
   "metadata": {},
   "source": [
    "**Вывод: TOP издательство по выпуску книг - Penguin Books**"
   ]
  },
  {
   "cell_type": "markdown",
   "id": "3cc6fc43",
   "metadata": {},
   "source": [
    "## Задание 4"
   ]
  },
  {
   "cell_type": "code",
   "execution_count": 21,
   "id": "622731b4",
   "metadata": {},
   "outputs": [
    {
     "name": "stdout",
     "output_type": "stream",
     "text": [
      "Автор с самой высокой средней оценкой книг, у которого более 50 оценок - J.K. Rowling/Mary GrandPré\n"
     ]
    }
   ],
   "source": [
    "#определим автора с самой высокой средней оценкой книг — учитывайте только книги с 50 и более оценкам\n",
    "query_four = '''\n",
    "WITH rat AS (\n",
    "SELECT book_id,\n",
    "       COUNT(rating_id) AS cnt_rating_id,\n",
    "       ROUND(AVG(rating), 2) AS avg_rating\n",
    "FROM ratings\n",
    "GROUP BY book_id\n",
    "HAVING COUNT(rating_id) > 50\n",
    "ORDER BY avg_rating DESC)\n",
    "       \n",
    "SELECT aut.author,\n",
    "       ROUNd(AVG(aut.avg_rating), 2) as avg_rating_final\n",
    "FROM  (SELECT author, \n",
    "              avg_rating\n",
    "       FROM books AS b\n",
    "       JOIN rat AS r ON b.book_id=r.book_id\n",
    "       JOIN authors AS a ON b.author_id=a.author_id) AS aut\n",
    "GROUP BY aut.author\n",
    "LIMIT 1\n",
    "'''\n",
    "query_four = pd.io.sql.read_sql(query_four, con = engine)\n",
    "\n",
    "print('Автор с самой высокой средней оценкой книг, у которого более 50 оценок -', query_four.iloc[0,0])"
   ]
  },
  {
   "cell_type": "markdown",
   "id": "760d0638",
   "metadata": {},
   "source": [
    "**Вывод: самую высокую оценку получила - JK Rowling/Mary GrandPré**"
   ]
  },
  {
   "cell_type": "markdown",
   "id": "7a46de05",
   "metadata": {},
   "source": [
    "## Задание 5"
   ]
  },
  {
   "cell_type": "code",
   "execution_count": 22,
   "id": "0776df27",
   "metadata": {},
   "outputs": [
    {
     "name": "stdout",
     "output_type": "stream",
     "text": [
      "Cреднее количество обзоров от пользователей, которые поставили больше 50 оценок - 24.33\n"
     ]
    }
   ],
   "source": [
    "#посчитаем среднее количество обзоров от пользователей, которые поставили больше 50 оценок\n",
    "query_five = '''\n",
    "WITH rat AS(\n",
    "SELECT username,\n",
    "       COUNT(rating_id) AS cnt_rating_id\n",
    "FROM ratings\n",
    "GROUP BY username\n",
    "HAVING COUNT(rating_id) > 50)\n",
    "\n",
    "SELECT ROUND(AVG(us.cnt_review_id),2)\n",
    "FROM  (SELECT re.username,\n",
    "              COUNT(review_id) AS cnt_review_id\n",
    "       FROM rat AS r\n",
    "       JOIN reviews AS re ON r.username = re.username\n",
    "       GROUP BY re.username) AS us\n",
    "'''\n",
    "\n",
    "query_five = pd.io.sql.read_sql(query_five, con = engine)\n",
    "\n",
    "print('Cреднее количество обзоров от пользователей, которые поставили больше 50 оценок -', query_five.iloc[0,0])"
   ]
  },
  {
   "cell_type": "markdown",
   "id": "5affe650",
   "metadata": {},
   "source": [
    "**Вывод: среднее количество обзоров от пользователей, которые поставили больше 50 оценок - 24,33**"
   ]
  }
 ],
 "metadata": {
  "ExecuteTimeLog": [
   {
    "duration": 471,
    "start_time": "2022-11-25T09:17:22.054Z"
   },
   {
    "duration": 8815,
    "start_time": "2022-11-25T09:17:22.527Z"
   },
   {
    "duration": 38,
    "start_time": "2022-11-25T09:17:31.344Z"
   },
   {
    "duration": 8,
    "start_time": "2022-11-25T09:17:31.384Z"
   },
   {
    "duration": 42,
    "start_time": "2022-11-25T09:17:31.393Z"
   },
   {
    "duration": 46,
    "start_time": "2022-11-25T09:17:31.436Z"
   },
   {
    "duration": 18,
    "start_time": "2022-11-25T09:17:31.483Z"
   },
   {
    "duration": 63,
    "start_time": "2022-11-25T09:17:31.502Z"
   },
   {
    "duration": 40,
    "start_time": "2022-11-25T09:17:31.567Z"
   },
   {
    "duration": 39,
    "start_time": "2022-11-25T09:17:31.609Z"
   },
   {
    "duration": 86,
    "start_time": "2022-11-25T09:17:31.649Z"
   },
   {
    "duration": 26,
    "start_time": "2022-11-25T09:17:31.736Z"
   },
   {
    "duration": 27,
    "start_time": "2022-11-25T09:17:31.763Z"
   },
   {
    "duration": 42,
    "start_time": "2022-11-25T09:17:31.792Z"
   },
   {
    "duration": 8,
    "start_time": "2022-11-25T09:17:31.835Z"
   },
   {
    "duration": 25,
    "start_time": "2022-11-25T09:17:31.845Z"
   },
   {
    "duration": 5,
    "start_time": "2022-11-25T09:17:31.871Z"
   },
   {
    "duration": 17,
    "start_time": "2022-11-25T09:17:31.877Z"
   },
   {
    "duration": 16,
    "start_time": "2022-11-25T09:17:31.895Z"
   },
   {
    "duration": 26,
    "start_time": "2022-11-25T09:17:31.912Z"
   },
   {
    "duration": 20,
    "start_time": "2022-11-25T09:17:31.940Z"
   },
   {
    "duration": 40,
    "start_time": "2022-11-25T09:17:31.961Z"
   },
   {
    "duration": 11,
    "start_time": "2022-11-25T09:19:01.887Z"
   },
   {
    "duration": 8,
    "start_time": "2022-11-25T09:19:08.565Z"
   },
   {
    "duration": 11,
    "start_time": "2022-11-25T09:19:14.667Z"
   },
   {
    "duration": 485,
    "start_time": "2022-11-25T14:28:08.152Z"
   },
   {
    "duration": 5564,
    "start_time": "2022-11-25T14:28:08.639Z"
   },
   {
    "duration": 281,
    "start_time": "2022-11-25T14:28:14.205Z"
   },
   {
    "duration": 73,
    "start_time": "2022-11-25T14:28:14.488Z"
   },
   {
    "duration": 72,
    "start_time": "2022-11-25T14:28:14.563Z"
   },
   {
    "duration": 104,
    "start_time": "2022-11-25T14:28:14.637Z"
   },
   {
    "duration": 88,
    "start_time": "2022-11-25T14:28:14.742Z"
   },
   {
    "duration": 33,
    "start_time": "2022-11-25T14:28:14.832Z"
   },
   {
    "duration": 37,
    "start_time": "2022-11-25T14:28:14.867Z"
   },
   {
    "duration": 11,
    "start_time": "2022-11-25T14:28:14.905Z"
   },
   {
    "duration": 11,
    "start_time": "2022-11-25T14:28:14.918Z"
   },
   {
    "duration": 13,
    "start_time": "2022-11-25T14:28:14.931Z"
   },
   {
    "duration": 14,
    "start_time": "2022-11-25T14:28:14.945Z"
   },
   {
    "duration": 79,
    "start_time": "2022-11-25T14:28:14.962Z"
   },
   {
    "duration": 72,
    "start_time": "2022-11-25T14:28:15.043Z"
   },
   {
    "duration": 91,
    "start_time": "2022-11-25T14:28:15.118Z"
   },
   {
    "duration": 7,
    "start_time": "2022-11-25T14:28:15.210Z"
   },
   {
    "duration": 11,
    "start_time": "2022-11-25T14:28:15.218Z"
   },
   {
    "duration": 20,
    "start_time": "2022-11-25T14:28:15.231Z"
   },
   {
    "duration": 83,
    "start_time": "2022-11-25T14:28:15.253Z"
   },
   {
    "duration": 77,
    "start_time": "2022-11-25T14:28:15.338Z"
   },
   {
    "duration": 77,
    "start_time": "2022-11-25T14:28:15.416Z"
   },
   {
    "duration": 102,
    "start_time": "2022-11-25T14:39:35.812Z"
   },
   {
    "duration": 483,
    "start_time": "2022-11-25T14:39:47.230Z"
   },
   {
    "duration": 6033,
    "start_time": "2022-11-25T14:39:47.715Z"
   },
   {
    "duration": 269,
    "start_time": "2022-11-25T14:39:53.750Z"
   },
   {
    "duration": 69,
    "start_time": "2022-11-25T14:39:54.021Z"
   },
   {
    "duration": 69,
    "start_time": "2022-11-25T14:39:54.093Z"
   },
   {
    "duration": 94,
    "start_time": "2022-11-25T14:39:54.164Z"
   },
   {
    "duration": 91,
    "start_time": "2022-11-25T14:39:54.260Z"
   },
   {
    "duration": 34,
    "start_time": "2022-11-25T14:39:54.353Z"
   },
   {
    "duration": 40,
    "start_time": "2022-11-25T14:39:54.389Z"
   },
   {
    "duration": 13,
    "start_time": "2022-11-25T14:39:54.431Z"
   },
   {
    "duration": 15,
    "start_time": "2022-11-25T14:39:54.445Z"
   },
   {
    "duration": 36,
    "start_time": "2022-11-25T14:39:54.462Z"
   },
   {
    "duration": 12,
    "start_time": "2022-11-25T14:39:54.501Z"
   },
   {
    "duration": 47,
    "start_time": "2022-11-25T14:39:54.516Z"
   },
   {
    "duration": 68,
    "start_time": "2022-11-25T14:39:54.565Z"
   },
   {
    "duration": 82,
    "start_time": "2022-11-25T14:39:54.635Z"
   },
   {
    "duration": 6,
    "start_time": "2022-11-25T14:39:54.719Z"
   },
   {
    "duration": 7,
    "start_time": "2022-11-25T14:39:54.726Z"
   },
   {
    "duration": 9,
    "start_time": "2022-11-25T14:39:54.734Z"
   },
   {
    "duration": 72,
    "start_time": "2022-11-25T14:39:54.744Z"
   },
   {
    "duration": 73,
    "start_time": "2022-11-25T14:39:54.817Z"
   },
   {
    "duration": 71,
    "start_time": "2022-11-25T14:39:54.892Z"
   },
   {
    "duration": 495,
    "start_time": "2022-11-25T14:45:42.139Z"
   },
   {
    "duration": 6104,
    "start_time": "2022-11-25T14:45:42.636Z"
   },
   {
    "duration": 270,
    "start_time": "2022-11-25T14:45:48.742Z"
   },
   {
    "duration": 71,
    "start_time": "2022-11-25T14:45:49.015Z"
   },
   {
    "duration": 72,
    "start_time": "2022-11-25T14:45:49.089Z"
   },
   {
    "duration": 106,
    "start_time": "2022-11-25T14:45:49.162Z"
   },
   {
    "duration": 90,
    "start_time": "2022-11-25T14:45:49.271Z"
   },
   {
    "duration": 31,
    "start_time": "2022-11-25T14:45:49.362Z"
   },
   {
    "duration": 37,
    "start_time": "2022-11-25T14:45:49.394Z"
   },
   {
    "duration": 14,
    "start_time": "2022-11-25T14:45:49.432Z"
   },
   {
    "duration": 15,
    "start_time": "2022-11-25T14:45:49.448Z"
   },
   {
    "duration": 32,
    "start_time": "2022-11-25T14:45:49.464Z"
   },
   {
    "duration": 13,
    "start_time": "2022-11-25T14:45:49.498Z"
   },
   {
    "duration": 45,
    "start_time": "2022-11-25T14:45:49.514Z"
   },
   {
    "duration": 71,
    "start_time": "2022-11-25T14:45:49.561Z"
   },
   {
    "duration": 85,
    "start_time": "2022-11-25T14:45:49.634Z"
   },
   {
    "duration": 6,
    "start_time": "2022-11-25T14:45:49.721Z"
   },
   {
    "duration": 21,
    "start_time": "2022-11-25T14:45:49.729Z"
   },
   {
    "duration": 12,
    "start_time": "2022-11-25T14:45:49.752Z"
   },
   {
    "duration": 75,
    "start_time": "2022-11-25T14:45:49.766Z"
   },
   {
    "duration": 73,
    "start_time": "2022-11-25T14:45:49.843Z"
   },
   {
    "duration": 72,
    "start_time": "2022-11-25T14:45:49.919Z"
   },
   {
    "duration": 596,
    "start_time": "2022-11-25T14:49:01.568Z"
   },
   {
    "duration": 5897,
    "start_time": "2022-11-25T14:49:02.166Z"
   },
   {
    "duration": 266,
    "start_time": "2022-11-25T14:49:08.065Z"
   },
   {
    "duration": 69,
    "start_time": "2022-11-25T14:49:08.333Z"
   },
   {
    "duration": 69,
    "start_time": "2022-11-25T14:49:08.405Z"
   },
   {
    "duration": 91,
    "start_time": "2022-11-25T14:49:08.476Z"
   },
   {
    "duration": 82,
    "start_time": "2022-11-25T14:49:08.569Z"
   },
   {
    "duration": 34,
    "start_time": "2022-11-25T14:49:08.653Z"
   },
   {
    "duration": 37,
    "start_time": "2022-11-25T14:49:08.689Z"
   },
   {
    "duration": 17,
    "start_time": "2022-11-25T14:49:08.729Z"
   },
   {
    "duration": 37,
    "start_time": "2022-11-25T14:49:08.747Z"
   },
   {
    "duration": 23,
    "start_time": "2022-11-25T14:49:08.786Z"
   },
   {
    "duration": 33,
    "start_time": "2022-11-25T14:49:08.811Z"
   },
   {
    "duration": 55,
    "start_time": "2022-11-25T14:49:08.847Z"
   },
   {
    "duration": 68,
    "start_time": "2022-11-25T14:49:08.905Z"
   },
   {
    "duration": 84,
    "start_time": "2022-11-25T14:49:08.974Z"
   },
   {
    "duration": 6,
    "start_time": "2022-11-25T14:49:09.060Z"
   },
   {
    "duration": 23,
    "start_time": "2022-11-25T14:49:09.067Z"
   },
   {
    "duration": 18,
    "start_time": "2022-11-25T14:49:09.091Z"
   },
   {
    "duration": 89,
    "start_time": "2022-11-25T14:49:09.111Z"
   },
   {
    "duration": 72,
    "start_time": "2022-11-25T14:49:09.202Z"
   },
   {
    "duration": 79,
    "start_time": "2022-11-25T14:49:09.276Z"
   },
   {
    "duration": 554,
    "start_time": "2022-11-25T14:50:41.871Z"
   },
   {
    "duration": 5456,
    "start_time": "2022-11-25T14:50:42.427Z"
   },
   {
    "duration": 270,
    "start_time": "2022-11-25T14:50:47.885Z"
   },
   {
    "duration": 68,
    "start_time": "2022-11-25T14:50:48.157Z"
   },
   {
    "duration": 68,
    "start_time": "2022-11-25T14:50:48.228Z"
   },
   {
    "duration": 99,
    "start_time": "2022-11-25T14:50:48.297Z"
   },
   {
    "duration": 91,
    "start_time": "2022-11-25T14:50:48.398Z"
   },
   {
    "duration": 34,
    "start_time": "2022-11-25T14:50:48.491Z"
   },
   {
    "duration": 40,
    "start_time": "2022-11-25T14:50:48.527Z"
   },
   {
    "duration": 38,
    "start_time": "2022-11-25T14:50:48.568Z"
   },
   {
    "duration": 23,
    "start_time": "2022-11-25T14:50:48.608Z"
   },
   {
    "duration": 21,
    "start_time": "2022-11-25T14:50:48.633Z"
   },
   {
    "duration": 19,
    "start_time": "2022-11-25T14:50:48.655Z"
   },
   {
    "duration": 67,
    "start_time": "2022-11-25T14:50:48.677Z"
   },
   {
    "duration": 69,
    "start_time": "2022-11-25T14:50:48.746Z"
   },
   {
    "duration": 84,
    "start_time": "2022-11-25T14:50:48.817Z"
   },
   {
    "duration": 7,
    "start_time": "2022-11-25T14:50:48.903Z"
   },
   {
    "duration": 25,
    "start_time": "2022-11-25T14:50:48.912Z"
   },
   {
    "duration": 26,
    "start_time": "2022-11-25T14:50:48.939Z"
   },
   {
    "duration": 91,
    "start_time": "2022-11-25T14:50:48.966Z"
   },
   {
    "duration": 74,
    "start_time": "2022-11-25T14:50:49.059Z"
   },
   {
    "duration": 73,
    "start_time": "2022-11-25T14:50:49.135Z"
   },
   {
    "duration": 548,
    "start_time": "2022-11-25T14:51:04.811Z"
   },
   {
    "duration": 5258,
    "start_time": "2022-11-25T14:51:05.362Z"
   },
   {
    "duration": 269,
    "start_time": "2022-11-25T14:51:10.622Z"
   },
   {
    "duration": 73,
    "start_time": "2022-11-25T14:51:10.892Z"
   },
   {
    "duration": 72,
    "start_time": "2022-11-25T14:51:10.967Z"
   },
   {
    "duration": 96,
    "start_time": "2022-11-25T14:51:11.041Z"
   },
   {
    "duration": 90,
    "start_time": "2022-11-25T14:51:11.139Z"
   },
   {
    "duration": 33,
    "start_time": "2022-11-25T14:51:11.230Z"
   },
   {
    "duration": 37,
    "start_time": "2022-11-25T14:51:11.265Z"
   },
   {
    "duration": 32,
    "start_time": "2022-11-25T14:51:11.304Z"
   },
   {
    "duration": 34,
    "start_time": "2022-11-25T14:51:11.338Z"
   },
   {
    "duration": 35,
    "start_time": "2022-11-25T14:51:11.373Z"
   },
   {
    "duration": 26,
    "start_time": "2022-11-25T14:51:11.410Z"
   },
   {
    "duration": 60,
    "start_time": "2022-11-25T14:51:11.439Z"
   },
   {
    "duration": 71,
    "start_time": "2022-11-25T14:51:11.501Z"
   },
   {
    "duration": 87,
    "start_time": "2022-11-25T14:51:11.574Z"
   },
   {
    "duration": 6,
    "start_time": "2022-11-25T14:51:11.662Z"
   },
   {
    "duration": 34,
    "start_time": "2022-11-25T14:51:11.670Z"
   },
   {
    "duration": 23,
    "start_time": "2022-11-25T14:51:11.705Z"
   },
   {
    "duration": 102,
    "start_time": "2022-11-25T14:51:11.729Z"
   },
   {
    "duration": 75,
    "start_time": "2022-11-25T14:51:11.833Z"
   },
   {
    "duration": 75,
    "start_time": "2022-11-25T14:51:11.910Z"
   },
   {
    "duration": 555,
    "start_time": "2022-11-25T14:51:28.983Z"
   },
   {
    "duration": 5116,
    "start_time": "2022-11-25T14:51:29.540Z"
   },
   {
    "duration": 262,
    "start_time": "2022-11-25T14:51:34.658Z"
   },
   {
    "duration": 70,
    "start_time": "2022-11-25T14:51:34.922Z"
   },
   {
    "duration": 68,
    "start_time": "2022-11-25T14:51:34.994Z"
   },
   {
    "duration": 93,
    "start_time": "2022-11-25T14:51:35.064Z"
   },
   {
    "duration": 83,
    "start_time": "2022-11-25T14:51:35.159Z"
   },
   {
    "duration": 30,
    "start_time": "2022-11-25T14:51:35.244Z"
   },
   {
    "duration": 35,
    "start_time": "2022-11-25T14:51:35.275Z"
   },
   {
    "duration": 13,
    "start_time": "2022-11-25T14:51:35.312Z"
   },
   {
    "duration": 11,
    "start_time": "2022-11-25T14:51:35.327Z"
   },
   {
    "duration": 18,
    "start_time": "2022-11-25T14:51:35.340Z"
   },
   {
    "duration": 13,
    "start_time": "2022-11-25T14:51:35.360Z"
   },
   {
    "duration": 65,
    "start_time": "2022-11-25T14:51:35.375Z"
   },
   {
    "duration": 70,
    "start_time": "2022-11-25T14:51:35.442Z"
   },
   {
    "duration": 85,
    "start_time": "2022-11-25T14:51:35.513Z"
   },
   {
    "duration": 8,
    "start_time": "2022-11-25T14:51:35.600Z"
   },
   {
    "duration": 20,
    "start_time": "2022-11-25T14:51:35.610Z"
   },
   {
    "duration": 12,
    "start_time": "2022-11-25T14:51:35.631Z"
   },
   {
    "duration": 83,
    "start_time": "2022-11-25T14:51:35.645Z"
   },
   {
    "duration": 71,
    "start_time": "2022-11-25T14:51:35.730Z"
   },
   {
    "duration": 71,
    "start_time": "2022-11-25T14:51:35.803Z"
   },
   {
    "duration": 547,
    "start_time": "2022-11-25T14:52:24.807Z"
   },
   {
    "duration": 5432,
    "start_time": "2022-11-25T14:52:25.357Z"
   },
   {
    "duration": 285,
    "start_time": "2022-11-25T14:52:30.790Z"
   },
   {
    "duration": 80,
    "start_time": "2022-11-25T14:52:31.078Z"
   },
   {
    "duration": 79,
    "start_time": "2022-11-25T14:52:31.160Z"
   },
   {
    "duration": 115,
    "start_time": "2022-11-25T14:52:31.242Z"
   },
   {
    "duration": 106,
    "start_time": "2022-11-25T14:52:31.360Z"
   },
   {
    "duration": 43,
    "start_time": "2022-11-25T14:52:31.468Z"
   },
   {
    "duration": 42,
    "start_time": "2022-11-25T14:52:31.513Z"
   },
   {
    "duration": 41,
    "start_time": "2022-11-25T14:52:31.557Z"
   },
   {
    "duration": 14,
    "start_time": "2022-11-25T14:52:31.601Z"
   },
   {
    "duration": 19,
    "start_time": "2022-11-25T14:52:31.617Z"
   },
   {
    "duration": 14,
    "start_time": "2022-11-25T14:52:31.637Z"
   },
   {
    "duration": 69,
    "start_time": "2022-11-25T14:52:31.654Z"
   },
   {
    "duration": 78,
    "start_time": "2022-11-25T14:52:31.724Z"
   },
   {
    "duration": 93,
    "start_time": "2022-11-25T14:52:31.804Z"
   },
   {
    "duration": 7,
    "start_time": "2022-11-25T14:52:31.899Z"
   },
   {
    "duration": 11,
    "start_time": "2022-11-25T14:52:31.908Z"
   },
   {
    "duration": 10,
    "start_time": "2022-11-25T14:52:31.920Z"
   },
   {
    "duration": 92,
    "start_time": "2022-11-25T14:52:31.932Z"
   },
   {
    "duration": 79,
    "start_time": "2022-11-25T14:52:32.025Z"
   },
   {
    "duration": 83,
    "start_time": "2022-11-25T14:52:32.105Z"
   },
   {
    "duration": 490,
    "start_time": "2022-11-25T14:53:53.845Z"
   },
   {
    "duration": 5364,
    "start_time": "2022-11-25T14:53:54.337Z"
   },
   {
    "duration": 301,
    "start_time": "2022-11-25T14:53:59.703Z"
   },
   {
    "duration": 95,
    "start_time": "2022-11-25T14:54:00.006Z"
   },
   {
    "duration": 76,
    "start_time": "2022-11-25T14:54:00.105Z"
   },
   {
    "duration": 115,
    "start_time": "2022-11-25T14:54:00.184Z"
   },
   {
    "duration": 99,
    "start_time": "2022-11-25T14:54:00.302Z"
   },
   {
    "duration": 32,
    "start_time": "2022-11-25T14:54:00.402Z"
   },
   {
    "duration": 35,
    "start_time": "2022-11-25T14:54:00.435Z"
   },
   {
    "duration": 14,
    "start_time": "2022-11-25T14:54:00.496Z"
   },
   {
    "duration": 37,
    "start_time": "2022-11-25T14:54:00.512Z"
   },
   {
    "duration": 18,
    "start_time": "2022-11-25T14:54:00.551Z"
   },
   {
    "duration": 17,
    "start_time": "2022-11-25T14:54:00.570Z"
   },
   {
    "duration": 46,
    "start_time": "2022-11-25T14:54:00.589Z"
   },
   {
    "duration": 81,
    "start_time": "2022-11-25T14:54:00.637Z"
   },
   {
    "duration": 92,
    "start_time": "2022-11-25T14:54:00.720Z"
   },
   {
    "duration": 7,
    "start_time": "2022-11-25T14:54:00.814Z"
   },
   {
    "duration": 35,
    "start_time": "2022-11-25T14:54:00.823Z"
   },
   {
    "duration": 13,
    "start_time": "2022-11-25T14:54:00.859Z"
   },
   {
    "duration": 91,
    "start_time": "2022-11-25T14:54:00.874Z"
   },
   {
    "duration": 80,
    "start_time": "2022-11-25T14:54:00.967Z"
   },
   {
    "duration": 77,
    "start_time": "2022-11-25T14:54:01.049Z"
   },
   {
    "duration": 536,
    "start_time": "2022-11-26T20:51:11.601Z"
   },
   {
    "duration": 4575,
    "start_time": "2022-11-26T20:51:12.139Z"
   },
   {
    "duration": 263,
    "start_time": "2022-11-26T20:51:16.716Z"
   },
   {
    "duration": 68,
    "start_time": "2022-11-26T20:51:16.981Z"
   },
   {
    "duration": 68,
    "start_time": "2022-11-26T20:51:17.051Z"
   },
   {
    "duration": 88,
    "start_time": "2022-11-26T20:51:17.121Z"
   },
   {
    "duration": 89,
    "start_time": "2022-11-26T20:51:17.211Z"
   },
   {
    "duration": 32,
    "start_time": "2022-11-26T20:51:17.302Z"
   },
   {
    "duration": 37,
    "start_time": "2022-11-26T20:51:17.335Z"
   },
   {
    "duration": 12,
    "start_time": "2022-11-26T20:51:17.374Z"
   },
   {
    "duration": 26,
    "start_time": "2022-11-26T20:51:17.388Z"
   },
   {
    "duration": 13,
    "start_time": "2022-11-26T20:51:17.416Z"
   },
   {
    "duration": 12,
    "start_time": "2022-11-26T20:51:17.431Z"
   },
   {
    "duration": 68,
    "start_time": "2022-11-26T20:51:17.444Z"
   },
   {
    "duration": 68,
    "start_time": "2022-11-26T20:51:17.514Z"
   },
   {
    "duration": 84,
    "start_time": "2022-11-26T20:51:17.583Z"
   },
   {
    "duration": 6,
    "start_time": "2022-11-26T20:51:17.669Z"
   },
   {
    "duration": 4,
    "start_time": "2022-11-26T20:51:17.676Z"
   },
   {
    "duration": 6,
    "start_time": "2022-11-26T20:51:17.682Z"
   },
   {
    "duration": 70,
    "start_time": "2022-11-26T20:51:17.690Z"
   },
   {
    "duration": 72,
    "start_time": "2022-11-26T20:51:17.762Z"
   },
   {
    "duration": 71,
    "start_time": "2022-11-26T20:51:17.835Z"
   },
   {
    "duration": 545,
    "start_time": "2022-11-26T20:51:56.187Z"
   },
   {
    "duration": 4560,
    "start_time": "2022-11-26T20:51:56.734Z"
   },
   {
    "duration": 267,
    "start_time": "2022-11-26T20:52:01.296Z"
   },
   {
    "duration": 68,
    "start_time": "2022-11-26T20:52:01.565Z"
   },
   {
    "duration": 67,
    "start_time": "2022-11-26T20:52:01.635Z"
   },
   {
    "duration": 101,
    "start_time": "2022-11-26T20:52:01.704Z"
   },
   {
    "duration": 84,
    "start_time": "2022-11-26T20:52:01.807Z"
   },
   {
    "duration": 29,
    "start_time": "2022-11-26T20:52:01.893Z"
   },
   {
    "duration": 33,
    "start_time": "2022-11-26T20:52:01.923Z"
   },
   {
    "duration": 11,
    "start_time": "2022-11-26T20:52:01.958Z"
   },
   {
    "duration": 10,
    "start_time": "2022-11-26T20:52:01.971Z"
   },
   {
    "duration": 40,
    "start_time": "2022-11-26T20:52:01.983Z"
   },
   {
    "duration": 13,
    "start_time": "2022-11-26T20:52:02.024Z"
   },
   {
    "duration": 54,
    "start_time": "2022-11-26T20:52:02.038Z"
   },
   {
    "duration": 69,
    "start_time": "2022-11-26T20:52:02.094Z"
   },
   {
    "duration": 82,
    "start_time": "2022-11-26T20:52:02.165Z"
   },
   {
    "duration": 6,
    "start_time": "2022-11-26T20:52:02.248Z"
   },
   {
    "duration": 4,
    "start_time": "2022-11-26T20:52:02.255Z"
   },
   {
    "duration": 6,
    "start_time": "2022-11-26T20:52:02.261Z"
   },
   {
    "duration": 73,
    "start_time": "2022-11-26T20:52:02.268Z"
   },
   {
    "duration": 72,
    "start_time": "2022-11-26T20:52:02.343Z"
   },
   {
    "duration": 71,
    "start_time": "2022-11-26T20:52:02.416Z"
   }
  ],
  "kernelspec": {
   "display_name": "Python 3 (ipykernel)",
   "language": "python",
   "name": "python3"
  },
  "language_info": {
   "codemirror_mode": {
    "name": "ipython",
    "version": 3
   },
   "file_extension": ".py",
   "mimetype": "text/x-python",
   "name": "python",
   "nbconvert_exporter": "python",
   "pygments_lexer": "ipython3",
   "version": "3.9.5"
  },
  "toc": {
   "base_numbering": 1,
   "nav_menu": {},
   "number_sections": false,
   "sideBar": true,
   "skip_h1_title": false,
   "title_cell": "Оглавление",
   "title_sidebar": "Contents",
   "toc_cell": true,
   "toc_position": {
    "height": "calc(100% - 180px)",
    "left": "10px",
    "top": "150px",
    "width": "249.361px"
   },
   "toc_section_display": true,
   "toc_window_display": true
  }
 },
 "nbformat": 4,
 "nbformat_minor": 5
}
